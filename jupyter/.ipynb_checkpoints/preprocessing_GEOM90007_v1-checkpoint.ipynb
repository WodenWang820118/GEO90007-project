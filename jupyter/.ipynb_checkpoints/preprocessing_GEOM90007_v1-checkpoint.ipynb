{
 "cells": [
  {
   "cell_type": "code",
   "execution_count": 1,
   "id": "637ca002",
   "metadata": {},
   "outputs": [],
   "source": [
    "import pandas as pd\n",
    "import numpy as np\n",
    "#define a function to import csv\n",
    "\n",
    "def import_csv(csvFile): #argument - pass a string\n",
    "    df = pd.read_csv(csvFile)\n",
    "    return df"
   ]
  },
  {
   "cell_type": "code",
   "execution_count": 2,
   "id": "2452bdf7",
   "metadata": {},
   "outputs": [
    {
     "ename": "FileNotFoundError",
     "evalue": "[Errno 2] No such file or directory: 'Cafes_and_restaurants__with_seating_capacity .csv'",
     "output_type": "error",
     "traceback": [
      "\u001b[1;31m---------------------------------------------------------------------------\u001b[0m",
      "\u001b[1;31mFileNotFoundError\u001b[0m                         Traceback (most recent call last)",
      "\u001b[1;32m<ipython-input-2-2a65fb082c86>\u001b[0m in \u001b[0;36m<module>\u001b[1;34m\u001b[0m\n\u001b[1;32m----> 1\u001b[1;33m \u001b[0mraw\u001b[0m \u001b[1;33m=\u001b[0m \u001b[0mimport_csv\u001b[0m\u001b[1;33m(\u001b[0m\u001b[1;34m\"Cafes_and_restaurants__with_seating_capacity .csv\"\u001b[0m\u001b[1;33m)\u001b[0m\u001b[1;33m\u001b[0m\u001b[1;33m\u001b[0m\u001b[0m\n\u001b[0m",
      "\u001b[1;32m<ipython-input-1-432dfc4cdac9>\u001b[0m in \u001b[0;36mimport_csv\u001b[1;34m(csvFile)\u001b[0m\n\u001b[0;32m      4\u001b[0m \u001b[1;33m\u001b[0m\u001b[0m\n\u001b[0;32m      5\u001b[0m \u001b[1;32mdef\u001b[0m \u001b[0mimport_csv\u001b[0m\u001b[1;33m(\u001b[0m\u001b[0mcsvFile\u001b[0m\u001b[1;33m)\u001b[0m\u001b[1;33m:\u001b[0m \u001b[1;31m#argument - pass a string\u001b[0m\u001b[1;33m\u001b[0m\u001b[1;33m\u001b[0m\u001b[0m\n\u001b[1;32m----> 6\u001b[1;33m     \u001b[0mdf\u001b[0m \u001b[1;33m=\u001b[0m \u001b[0mpd\u001b[0m\u001b[1;33m.\u001b[0m\u001b[0mread_csv\u001b[0m\u001b[1;33m(\u001b[0m\u001b[0mcsvFile\u001b[0m\u001b[1;33m)\u001b[0m\u001b[1;33m\u001b[0m\u001b[1;33m\u001b[0m\u001b[0m\n\u001b[0m\u001b[0;32m      7\u001b[0m     \u001b[1;32mreturn\u001b[0m \u001b[0mdf\u001b[0m\u001b[1;33m\u001b[0m\u001b[1;33m\u001b[0m\u001b[0m\n",
      "\u001b[1;32mc:\\users\\tuohuang\\appdata\\local\\programs\\python\\python39\\lib\\site-packages\\pandas\\io\\parsers.py\u001b[0m in \u001b[0;36mread_csv\u001b[1;34m(filepath_or_buffer, sep, delimiter, header, names, index_col, usecols, squeeze, prefix, mangle_dupe_cols, dtype, engine, converters, true_values, false_values, skipinitialspace, skiprows, skipfooter, nrows, na_values, keep_default_na, na_filter, verbose, skip_blank_lines, parse_dates, infer_datetime_format, keep_date_col, date_parser, dayfirst, cache_dates, iterator, chunksize, compression, thousands, decimal, lineterminator, quotechar, quoting, doublequote, escapechar, comment, encoding, dialect, error_bad_lines, warn_bad_lines, delim_whitespace, low_memory, memory_map, float_precision, storage_options)\u001b[0m\n\u001b[0;32m    608\u001b[0m     \u001b[0mkwds\u001b[0m\u001b[1;33m.\u001b[0m\u001b[0mupdate\u001b[0m\u001b[1;33m(\u001b[0m\u001b[0mkwds_defaults\u001b[0m\u001b[1;33m)\u001b[0m\u001b[1;33m\u001b[0m\u001b[1;33m\u001b[0m\u001b[0m\n\u001b[0;32m    609\u001b[0m \u001b[1;33m\u001b[0m\u001b[0m\n\u001b[1;32m--> 610\u001b[1;33m     \u001b[1;32mreturn\u001b[0m \u001b[0m_read\u001b[0m\u001b[1;33m(\u001b[0m\u001b[0mfilepath_or_buffer\u001b[0m\u001b[1;33m,\u001b[0m \u001b[0mkwds\u001b[0m\u001b[1;33m)\u001b[0m\u001b[1;33m\u001b[0m\u001b[1;33m\u001b[0m\u001b[0m\n\u001b[0m\u001b[0;32m    611\u001b[0m \u001b[1;33m\u001b[0m\u001b[0m\n\u001b[0;32m    612\u001b[0m \u001b[1;33m\u001b[0m\u001b[0m\n",
      "\u001b[1;32mc:\\users\\tuohuang\\appdata\\local\\programs\\python\\python39\\lib\\site-packages\\pandas\\io\\parsers.py\u001b[0m in \u001b[0;36m_read\u001b[1;34m(filepath_or_buffer, kwds)\u001b[0m\n\u001b[0;32m    460\u001b[0m \u001b[1;33m\u001b[0m\u001b[0m\n\u001b[0;32m    461\u001b[0m     \u001b[1;31m# Create the parser.\u001b[0m\u001b[1;33m\u001b[0m\u001b[1;33m\u001b[0m\u001b[1;33m\u001b[0m\u001b[0m\n\u001b[1;32m--> 462\u001b[1;33m     \u001b[0mparser\u001b[0m \u001b[1;33m=\u001b[0m \u001b[0mTextFileReader\u001b[0m\u001b[1;33m(\u001b[0m\u001b[0mfilepath_or_buffer\u001b[0m\u001b[1;33m,\u001b[0m \u001b[1;33m**\u001b[0m\u001b[0mkwds\u001b[0m\u001b[1;33m)\u001b[0m\u001b[1;33m\u001b[0m\u001b[1;33m\u001b[0m\u001b[0m\n\u001b[0m\u001b[0;32m    463\u001b[0m \u001b[1;33m\u001b[0m\u001b[0m\n\u001b[0;32m    464\u001b[0m     \u001b[1;32mif\u001b[0m \u001b[0mchunksize\u001b[0m \u001b[1;32mor\u001b[0m \u001b[0miterator\u001b[0m\u001b[1;33m:\u001b[0m\u001b[1;33m\u001b[0m\u001b[1;33m\u001b[0m\u001b[0m\n",
      "\u001b[1;32mc:\\users\\tuohuang\\appdata\\local\\programs\\python\\python39\\lib\\site-packages\\pandas\\io\\parsers.py\u001b[0m in \u001b[0;36m__init__\u001b[1;34m(self, f, engine, **kwds)\u001b[0m\n\u001b[0;32m    817\u001b[0m             \u001b[0mself\u001b[0m\u001b[1;33m.\u001b[0m\u001b[0moptions\u001b[0m\u001b[1;33m[\u001b[0m\u001b[1;34m\"has_index_names\"\u001b[0m\u001b[1;33m]\u001b[0m \u001b[1;33m=\u001b[0m \u001b[0mkwds\u001b[0m\u001b[1;33m[\u001b[0m\u001b[1;34m\"has_index_names\"\u001b[0m\u001b[1;33m]\u001b[0m\u001b[1;33m\u001b[0m\u001b[1;33m\u001b[0m\u001b[0m\n\u001b[0;32m    818\u001b[0m \u001b[1;33m\u001b[0m\u001b[0m\n\u001b[1;32m--> 819\u001b[1;33m         \u001b[0mself\u001b[0m\u001b[1;33m.\u001b[0m\u001b[0m_engine\u001b[0m \u001b[1;33m=\u001b[0m \u001b[0mself\u001b[0m\u001b[1;33m.\u001b[0m\u001b[0m_make_engine\u001b[0m\u001b[1;33m(\u001b[0m\u001b[0mself\u001b[0m\u001b[1;33m.\u001b[0m\u001b[0mengine\u001b[0m\u001b[1;33m)\u001b[0m\u001b[1;33m\u001b[0m\u001b[1;33m\u001b[0m\u001b[0m\n\u001b[0m\u001b[0;32m    820\u001b[0m \u001b[1;33m\u001b[0m\u001b[0m\n\u001b[0;32m    821\u001b[0m     \u001b[1;32mdef\u001b[0m \u001b[0mclose\u001b[0m\u001b[1;33m(\u001b[0m\u001b[0mself\u001b[0m\u001b[1;33m)\u001b[0m\u001b[1;33m:\u001b[0m\u001b[1;33m\u001b[0m\u001b[1;33m\u001b[0m\u001b[0m\n",
      "\u001b[1;32mc:\\users\\tuohuang\\appdata\\local\\programs\\python\\python39\\lib\\site-packages\\pandas\\io\\parsers.py\u001b[0m in \u001b[0;36m_make_engine\u001b[1;34m(self, engine)\u001b[0m\n\u001b[0;32m   1048\u001b[0m             )\n\u001b[0;32m   1049\u001b[0m         \u001b[1;31m# error: Too many arguments for \"ParserBase\"\u001b[0m\u001b[1;33m\u001b[0m\u001b[1;33m\u001b[0m\u001b[1;33m\u001b[0m\u001b[0m\n\u001b[1;32m-> 1050\u001b[1;33m         \u001b[1;32mreturn\u001b[0m \u001b[0mmapping\u001b[0m\u001b[1;33m[\u001b[0m\u001b[0mengine\u001b[0m\u001b[1;33m]\u001b[0m\u001b[1;33m(\u001b[0m\u001b[0mself\u001b[0m\u001b[1;33m.\u001b[0m\u001b[0mf\u001b[0m\u001b[1;33m,\u001b[0m \u001b[1;33m**\u001b[0m\u001b[0mself\u001b[0m\u001b[1;33m.\u001b[0m\u001b[0moptions\u001b[0m\u001b[1;33m)\u001b[0m  \u001b[1;31m# type: ignore[call-arg]\u001b[0m\u001b[1;33m\u001b[0m\u001b[1;33m\u001b[0m\u001b[0m\n\u001b[0m\u001b[0;32m   1051\u001b[0m \u001b[1;33m\u001b[0m\u001b[0m\n\u001b[0;32m   1052\u001b[0m     \u001b[1;32mdef\u001b[0m \u001b[0m_failover_to_python\u001b[0m\u001b[1;33m(\u001b[0m\u001b[0mself\u001b[0m\u001b[1;33m)\u001b[0m\u001b[1;33m:\u001b[0m\u001b[1;33m\u001b[0m\u001b[1;33m\u001b[0m\u001b[0m\n",
      "\u001b[1;32mc:\\users\\tuohuang\\appdata\\local\\programs\\python\\python39\\lib\\site-packages\\pandas\\io\\parsers.py\u001b[0m in \u001b[0;36m__init__\u001b[1;34m(self, src, **kwds)\u001b[0m\n\u001b[0;32m   1865\u001b[0m \u001b[1;33m\u001b[0m\u001b[0m\n\u001b[0;32m   1866\u001b[0m         \u001b[1;31m# open handles\u001b[0m\u001b[1;33m\u001b[0m\u001b[1;33m\u001b[0m\u001b[1;33m\u001b[0m\u001b[0m\n\u001b[1;32m-> 1867\u001b[1;33m         \u001b[0mself\u001b[0m\u001b[1;33m.\u001b[0m\u001b[0m_open_handles\u001b[0m\u001b[1;33m(\u001b[0m\u001b[0msrc\u001b[0m\u001b[1;33m,\u001b[0m \u001b[0mkwds\u001b[0m\u001b[1;33m)\u001b[0m\u001b[1;33m\u001b[0m\u001b[1;33m\u001b[0m\u001b[0m\n\u001b[0m\u001b[0;32m   1868\u001b[0m         \u001b[1;32massert\u001b[0m \u001b[0mself\u001b[0m\u001b[1;33m.\u001b[0m\u001b[0mhandles\u001b[0m \u001b[1;32mis\u001b[0m \u001b[1;32mnot\u001b[0m \u001b[1;32mNone\u001b[0m\u001b[1;33m\u001b[0m\u001b[1;33m\u001b[0m\u001b[0m\n\u001b[0;32m   1869\u001b[0m         \u001b[1;32mfor\u001b[0m \u001b[0mkey\u001b[0m \u001b[1;32min\u001b[0m \u001b[1;33m(\u001b[0m\u001b[1;34m\"storage_options\"\u001b[0m\u001b[1;33m,\u001b[0m \u001b[1;34m\"encoding\"\u001b[0m\u001b[1;33m,\u001b[0m \u001b[1;34m\"memory_map\"\u001b[0m\u001b[1;33m,\u001b[0m \u001b[1;34m\"compression\"\u001b[0m\u001b[1;33m)\u001b[0m\u001b[1;33m:\u001b[0m\u001b[1;33m\u001b[0m\u001b[1;33m\u001b[0m\u001b[0m\n",
      "\u001b[1;32mc:\\users\\tuohuang\\appdata\\local\\programs\\python\\python39\\lib\\site-packages\\pandas\\io\\parsers.py\u001b[0m in \u001b[0;36m_open_handles\u001b[1;34m(self, src, kwds)\u001b[0m\n\u001b[0;32m   1360\u001b[0m         \u001b[0mLet\u001b[0m \u001b[0mthe\u001b[0m \u001b[0mreaders\u001b[0m \u001b[0mopen\u001b[0m \u001b[0mIOHanldes\u001b[0m \u001b[0mafter\u001b[0m \u001b[0mthey\u001b[0m \u001b[0mare\u001b[0m \u001b[0mdone\u001b[0m \u001b[1;32mwith\u001b[0m \u001b[0mtheir\u001b[0m \u001b[0mpotential\u001b[0m \u001b[0mraises\u001b[0m\u001b[1;33m.\u001b[0m\u001b[1;33m\u001b[0m\u001b[1;33m\u001b[0m\u001b[0m\n\u001b[0;32m   1361\u001b[0m         \"\"\"\n\u001b[1;32m-> 1362\u001b[1;33m         self.handles = get_handle(\n\u001b[0m\u001b[0;32m   1363\u001b[0m             \u001b[0msrc\u001b[0m\u001b[1;33m,\u001b[0m\u001b[1;33m\u001b[0m\u001b[1;33m\u001b[0m\u001b[0m\n\u001b[0;32m   1364\u001b[0m             \u001b[1;34m\"r\"\u001b[0m\u001b[1;33m,\u001b[0m\u001b[1;33m\u001b[0m\u001b[1;33m\u001b[0m\u001b[0m\n",
      "\u001b[1;32mc:\\users\\tuohuang\\appdata\\local\\programs\\python\\python39\\lib\\site-packages\\pandas\\io\\common.py\u001b[0m in \u001b[0;36mget_handle\u001b[1;34m(path_or_buf, mode, encoding, compression, memory_map, is_text, errors, storage_options)\u001b[0m\n\u001b[0;32m    640\u001b[0m                 \u001b[0merrors\u001b[0m \u001b[1;33m=\u001b[0m \u001b[1;34m\"replace\"\u001b[0m\u001b[1;33m\u001b[0m\u001b[1;33m\u001b[0m\u001b[0m\n\u001b[0;32m    641\u001b[0m             \u001b[1;31m# Encoding\u001b[0m\u001b[1;33m\u001b[0m\u001b[1;33m\u001b[0m\u001b[1;33m\u001b[0m\u001b[0m\n\u001b[1;32m--> 642\u001b[1;33m             handle = open(\n\u001b[0m\u001b[0;32m    643\u001b[0m                 \u001b[0mhandle\u001b[0m\u001b[1;33m,\u001b[0m\u001b[1;33m\u001b[0m\u001b[1;33m\u001b[0m\u001b[0m\n\u001b[0;32m    644\u001b[0m                 \u001b[0mioargs\u001b[0m\u001b[1;33m.\u001b[0m\u001b[0mmode\u001b[0m\u001b[1;33m,\u001b[0m\u001b[1;33m\u001b[0m\u001b[1;33m\u001b[0m\u001b[0m\n",
      "\u001b[1;31mFileNotFoundError\u001b[0m: [Errno 2] No such file or directory: 'Cafes_and_restaurants__with_seating_capacity .csv'"
     ]
    }
   ],
   "source": [
    "raw = import_csv(r\"../data/Cafes_and_restaurants__with_seating_capacity .csv\") "
   ]
  },
  {
   "cell_type": "code",
   "execution_count": 3,
   "id": "f40b556c",
   "metadata": {},
   "outputs": [
    {
     "ename": "NameError",
     "evalue": "name 'raw' is not defined",
     "output_type": "error",
     "traceback": [
      "\u001b[1;31m---------------------------------------------------------------------------\u001b[0m",
      "\u001b[1;31mNameError\u001b[0m                                 Traceback (most recent call last)",
      "\u001b[1;32m<ipython-input-3-52fa5fb11425>\u001b[0m in \u001b[0;36m<module>\u001b[1;34m\u001b[0m\n\u001b[1;32m----> 1\u001b[1;33m \u001b[0mraw\u001b[0m\u001b[1;33m.\u001b[0m\u001b[0mhead\u001b[0m\u001b[1;33m(\u001b[0m\u001b[1;36m10\u001b[0m\u001b[1;33m)\u001b[0m\u001b[1;33m\u001b[0m\u001b[1;33m\u001b[0m\u001b[0m\n\u001b[0m",
      "\u001b[1;31mNameError\u001b[0m: name 'raw' is not defined"
     ]
    }
   ],
   "source": [
    "raw.head(10)"
   ]
  },
  {
   "cell_type": "code",
   "execution_count": 4,
   "id": "c897cf46",
   "metadata": {},
   "outputs": [],
   "source": [
    "df2019 = raw[raw['Census year'] >= 2019]"
   ]
  },
  {
   "cell_type": "code",
   "execution_count": 5,
   "id": "c7ab15d3",
   "metadata": {},
   "outputs": [],
   "source": [
    "# select certain types of \"Industry (ANZSIC4) description\": \n",
    "types = ['Cafes and Restaurants', 'Pubs, Taverns and Bars', 'Takeaway Food Services']\n",
    "df_selected = df2019.loc[df2019['Industry (ANZSIC4) description'].isin(types)]\n",
    "df_selected = df_selected[(df_selected['x coordinate'].notnull()) & (df_selected['y coordinate'].notnull())]"
   ]
  },
  {
   "cell_type": "code",
   "execution_count": 6,
   "id": "69e59dc2",
   "metadata": {},
   "outputs": [
    {
     "data": {
      "text/html": [
       "<div>\n",
       "<style scoped>\n",
       "    .dataframe tbody tr th:only-of-type {\n",
       "        vertical-align: middle;\n",
       "    }\n",
       "\n",
       "    .dataframe tbody tr th {\n",
       "        vertical-align: top;\n",
       "    }\n",
       "\n",
       "    .dataframe thead th {\n",
       "        text-align: right;\n",
       "    }\n",
       "</style>\n",
       "<table border=\"1\" class=\"dataframe\">\n",
       "  <thead>\n",
       "    <tr style=\"text-align: right;\">\n",
       "      <th></th>\n",
       "      <th>Census year</th>\n",
       "      <th>Block ID</th>\n",
       "      <th>Property ID</th>\n",
       "      <th>Base property ID</th>\n",
       "      <th>Street address</th>\n",
       "      <th>CLUE small area</th>\n",
       "      <th>Trading name</th>\n",
       "      <th>Industry (ANZSIC4) code</th>\n",
       "      <th>Industry (ANZSIC4) description</th>\n",
       "      <th>Seating type</th>\n",
       "      <th>Number of seats</th>\n",
       "      <th>x coordinate</th>\n",
       "      <th>y coordinate</th>\n",
       "      <th>Location</th>\n",
       "    </tr>\n",
       "  </thead>\n",
       "  <tbody>\n",
       "    <tr>\n",
       "      <th>47120</th>\n",
       "      <td>2019</td>\n",
       "      <td>203</td>\n",
       "      <td>103123</td>\n",
       "      <td>103123</td>\n",
       "      <td>258 Elgin Street CARLTON 3053</td>\n",
       "      <td>Carlton</td>\n",
       "      <td>Cafe Sua Da</td>\n",
       "      <td>4511</td>\n",
       "      <td>Cafes and Restaurants</td>\n",
       "      <td>Seats - Indoor</td>\n",
       "      <td>45</td>\n",
       "      <td>144.96553</td>\n",
       "      <td>-37.79671</td>\n",
       "      <td>POINT (144.9655339 -37.79670704)</td>\n",
       "    </tr>\n",
       "  </tbody>\n",
       "</table>\n",
       "</div>"
      ],
      "text/plain": [
       "       Census year  Block ID  Property ID  Base property ID  \\\n",
       "47120         2019       203       103123            103123   \n",
       "\n",
       "                      Street address CLUE small area Trading name  \\\n",
       "47120  258 Elgin Street CARLTON 3053         Carlton  Cafe Sua Da   \n",
       "\n",
       "       Industry (ANZSIC4) code Industry (ANZSIC4) description    Seating type  \\\n",
       "47120                     4511          Cafes and Restaurants  Seats - Indoor   \n",
       "\n",
       "       Number of seats  x coordinate  y coordinate  \\\n",
       "47120               45     144.96553     -37.79671   \n",
       "\n",
       "                               Location  \n",
       "47120  POINT (144.9655339 -37.79670704)  "
      ]
     },
     "execution_count": 6,
     "metadata": {},
     "output_type": "execute_result"
    }
   ],
   "source": [
    "df_selected.head(1)"
   ]
  },
  {
   "cell_type": "code",
   "execution_count": 7,
   "id": "6db211fa",
   "metadata": {},
   "outputs": [
    {
     "data": {
      "text/plain": [
       "3427"
      ]
     },
     "execution_count": 7,
     "metadata": {},
     "output_type": "execute_result"
    }
   ],
   "source": [
    "len(df_selected)"
   ]
  },
  {
   "cell_type": "code",
   "execution_count": 8,
   "id": "7526ff0a",
   "metadata": {},
   "outputs": [
    {
     "data": {
      "text/plain": [
       "Index(['Census year', 'Block ID', 'Property ID', 'Base property ID',\n",
       "       'Street address', 'CLUE small area', 'Trading name',\n",
       "       'Industry (ANZSIC4) code', 'Industry (ANZSIC4) description',\n",
       "       'Seating type', 'Number of seats', 'longitude', 'latitude', 'Location'],\n",
       "      dtype='object')"
      ]
     },
     "execution_count": 8,
     "metadata": {},
     "output_type": "execute_result"
    }
   ],
   "source": [
    "df_selected.rename(columns={'x coordinate': 'longitude', 'y coordinate': 'latitude'}, inplace=True)\n",
    "df_selected.columns"
   ]
  },
  {
   "cell_type": "code",
   "execution_count": 9,
   "id": "3340478e",
   "metadata": {},
   "outputs": [],
   "source": [
    "#Save modified csv file to under the same folder of this notebook\n",
    "df_selected.to_csv(r'filtered_cafes_restaurants.csv', index = False, header = True)"
   ]
  },
  {
   "cell_type": "code",
   "execution_count": 10,
   "id": "990e8fc4",
   "metadata": {},
   "outputs": [
    {
     "name": "stdout",
     "output_type": "stream",
     "text": [
      "<class 'pandas.core.frame.DataFrame'>\n",
      "Int64Index: 3427 entries, 47120 to 50651\n",
      "Data columns (total 14 columns):\n",
      " #   Column                          Non-Null Count  Dtype  \n",
      "---  ------                          --------------  -----  \n",
      " 0   Census year                     3427 non-null   int64  \n",
      " 1   Block ID                        3427 non-null   int64  \n",
      " 2   Property ID                     3427 non-null   int64  \n",
      " 3   Base property ID                3427 non-null   int64  \n",
      " 4   Street address                  3427 non-null   object \n",
      " 5   CLUE small area                 3427 non-null   object \n",
      " 6   Trading name                    3427 non-null   object \n",
      " 7   Industry (ANZSIC4) code         3427 non-null   int64  \n",
      " 8   Industry (ANZSIC4) description  3427 non-null   object \n",
      " 9   Seating type                    3427 non-null   object \n",
      " 10  Number of seats                 3427 non-null   int64  \n",
      " 11  longitude                       3427 non-null   float64\n",
      " 12  latitude                        3427 non-null   float64\n",
      " 13  Location                        3427 non-null   object \n",
      "dtypes: float64(2), int64(6), object(6)\n",
      "memory usage: 401.6+ KB\n"
     ]
    }
   ],
   "source": [
    "df_selected.info()"
   ]
  },
  {
   "cell_type": "code",
   "execution_count": 11,
   "id": "903682c9",
   "metadata": {},
   "outputs": [
    {
     "data": {
      "text/plain": [
       "(69,\n",
       " ['Other Auxiliary Finance and Investment Services',\n",
       "  'Entertainment Media Retailing',\n",
       "  'Flower Retailing',\n",
       "  'Higher Education',\n",
       "  'Electricity Transmission',\n",
       "  'Funeral, Crematorium and Cemetery Services',\n",
       "  'Technical and Vocational Education and Training',\n",
       "  'Performing Arts Venue Operation',\n",
       "  'Management Advice and Other Consulting Services',\n",
       "  'Diet and Weight Reduction Centre Operation',\n",
       "  'Banking',\n",
       "  'Automotive Body, Paint and Interior Repair',\n",
       "  'Non-Residential Property Operators',\n",
       "  'Motion Picture Exhibition',\n",
       "  'Health and Fitness Centres and Gymnasia Operation',\n",
       "  'Catering Services',\n",
       "  'Hospitals (except Psychiatric Hospitals)',\n",
       "  'Other Personal Services n.e.c.',\n",
       "  'Convenience Store',\n",
       "  'Other Store-Based Retailing n.e.c.',\n",
       "  'Fuel Retailing',\n",
       "  'Horse and Dog Racing Administration and Track Operation',\n",
       "  'Vacant Space',\n",
       "  'Amusement and Other Recreational Activities n.e.c.',\n",
       "  'Other Interest Group Services n.e.c.',\n",
       "  'Computer System Design and Related Services',\n",
       "  'Bakery Product Manufacturing (Non-factory based)',\n",
       "  'Furniture Retailing',\n",
       "  'Internet Service Providers and Web Search Portals',\n",
       "  'Laundry and Dry-Cleaning Services',\n",
       "  'Zoological and Botanical Gardens Operation',\n",
       "  'Clubs (Hospitality)',\n",
       "  'Accommodation',\n",
       "  'Pubs, Taverns and Bars',\n",
       "  'Sports and Physical Recreation Clubs and Sports Professionals',\n",
       "  'Cafes and Restaurants',\n",
       "  'Scientific Research Services',\n",
       "  'Liquor Retailing',\n",
       "  'Other Social Assistance Services',\n",
       "  'Hairdressing and Beauty Services',\n",
       "  'Sport and Camping Equipment Retailing',\n",
       "  'Womens Clothing Retailing',\n",
       "  'Fresh Meat, Fish and Poultry Retailing',\n",
       "  'Motor Cycle Retailing',\n",
       "  'Common Area',\n",
       "  'Takeaway Food Services',\n",
       "  'Other Gambling Activities',\n",
       "  'Clothing Retailing',\n",
       "  'Sports and Physical Recreation Instruction',\n",
       "  'Watch and Jewellery Retailing',\n",
       "  'Architectural Services',\n",
       "  'Sports and Physical Recreation Venues, Grounds and Facilities Operation',\n",
       "  'Business and Professional Association Services',\n",
       "  'Houseware Retailing',\n",
       "  'Other Personal Accessory Retailing',\n",
       "  'Casino Operation',\n",
       "  'Pharmaceutical, Cosmetic and Toiletry Goods Retailing',\n",
       "  'Other Specialised Food Retailing',\n",
       "  'Other Administrative Services n.e.c.',\n",
       "  'Newspaper and Book Retailing',\n",
       "  'Performing Arts Operation',\n",
       "  'Oil and Gas Extraction',\n",
       "  'Fruit and Vegetable Retailing',\n",
       "  'Professional Photographic Services',\n",
       "  'Other Food Product Manufacturing n.e.c.',\n",
       "  'Car Retailing',\n",
       "  'Fruit and Vegetable Wholesaling',\n",
       "  'Supermarket and Grocery Stores',\n",
       "  'Religious Services'])"
      ]
     },
     "execution_count": 11,
     "metadata": {},
     "output_type": "execute_result"
    }
   ],
   "source": [
    "industries = list(set(raw['Industry (ANZSIC4) description']))\n",
    "len(industries),industries"
   ]
  },
  {
   "cell_type": "code",
   "execution_count": null,
   "id": "98b094c8",
   "metadata": {},
   "outputs": [],
   "source": []
  }
 ],
 "metadata": {
  "interpreter": {
   "hash": "984944ce4eefbed249e2a3501e72ee0777f56e66d10a0a53283275062444400f"
  },
  "kernelspec": {
   "display_name": "Python 3",
   "language": "python",
   "name": "python3"
  },
  "language_info": {
   "codemirror_mode": {
    "name": "ipython",
    "version": 3
   },
   "file_extension": ".py",
   "mimetype": "text/x-python",
   "name": "python",
   "nbconvert_exporter": "python",
   "pygments_lexer": "ipython3",
   "version": "3.9.5"
  }
 },
 "nbformat": 4,
 "nbformat_minor": 5
}
